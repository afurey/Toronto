{
 "cells": [
  {
   "cell_type": "markdown",
   "metadata": {},
   "source": [
    "**The data was copied and pasted into an excel file and saved as a .csv file.  This was considerably easier than their download suggestion.**"
   ]
  },
  {
   "cell_type": "markdown",
   "metadata": {},
   "source": [
    "Rows were removed where the Borough was Not assigned.\n",
    "Neighbourhood was replaced by the Borough if Neighbourhood was Not assigned."
   ]
  },
  {
   "cell_type": "code",
   "execution_count": 30,
   "metadata": {},
   "outputs": [
    {
     "name": "stdout",
     "output_type": "stream",
     "text": [
      "    Postcode      Borough             Neighbourhood\n",
      "1        M1B  Scarborough                     Rouge\n",
      "2        M1B  Scarborough                   Malvern\n",
      "3        M1C  Scarborough            Highland Creek\n",
      "4        M1C  Scarborough                Rouge Hill\n",
      "5        M1C  Scarborough                Port Union\n",
      "6        M1E  Scarborough                 Guildwood\n",
      "7        M1E  Scarborough               Morningside\n",
      "8        M1E  Scarborough                 West Hill\n",
      "9        M1G  Scarborough                    Woburn\n",
      "10       M1H  Scarborough                 Cedarbrae\n",
      "11       M1J  Scarborough       Scarborough Village\n",
      "12       M1K  Scarborough      East Birchmount Park\n",
      "13       M1K  Scarborough                   Ionview\n",
      "14       M1K  Scarborough              Kennedy Park\n",
      "15       M1L  Scarborough                  Clairlea\n",
      "16       M1L  Scarborough               Golden Mile\n",
      "17       M1L  Scarborough                  Oakridge\n",
      "18       M1M  Scarborough                Cliffcrest\n",
      "19       M1M  Scarborough                 Cliffside\n",
      "20       M1M  Scarborough  Scarborough Village West\n",
      "21       M1N  Scarborough               Birch Cliff\n",
      "22       M1N  Scarborough            Cliffside West\n",
      "23       M1P  Scarborough               Dorset Park\n",
      "24       M1P  Scarborough   Scarborough Town Centre\n",
      "25       M1P  Scarborough           Wexford Heights\n",
      "26       M1R  Scarborough                  Maryvale\n",
      "27       M1R  Scarborough                   Wexford\n",
      "28       M1S  Scarborough                 Agincourt\n",
      "29       M1T  Scarborough            Clarks Corners\n",
      "30       M1T  Scarborough                  Sullivan\n",
      "..       ...          ...                       ...\n",
      "248      M8Z    Etobicoke     Royal York South West\n",
      "249      M8Z    Etobicoke            South of Bloor\n",
      "250      M9A    Etobicoke          Islington Avenue\n",
      "251      M9B    Etobicoke                Cloverdale\n",
      "252      M9B    Etobicoke                 Islington\n",
      "253      M9B    Etobicoke              Martin Grove\n",
      "254      M9B    Etobicoke          Princess Gardens\n",
      "255      M9B    Etobicoke           West Deane Park\n",
      "256      M9C    Etobicoke         Bloordale Gardens\n",
      "257      M9C    Etobicoke                  Eringate\n",
      "258      M9C    Etobicoke             Markland Wood\n",
      "259      M9C    Etobicoke         Old Burnhamthorpe\n",
      "265      M9L   North York             Humber Summit\n",
      "266      M9M   North York                     Emery\n",
      "267      M9M   North York                 Humberlea\n",
      "268      M9N         York                    Weston\n",
      "269      M9P    Etobicoke                 Westmount\n",
      "270      M9R    Etobicoke         Kingsview Village\n",
      "271      M9R    Etobicoke      Martin Grove Gardens\n",
      "272      M9R    Etobicoke          Richview Gardens\n",
      "273      M9R    Etobicoke              St. Phillips\n",
      "276      M9V    Etobicoke            Albion Gardens\n",
      "277      M9V    Etobicoke          Beaumond Heights\n",
      "278      M9V    Etobicoke                Humbergate\n",
      "279      M9V    Etobicoke                 Jamestown\n",
      "280      M9V    Etobicoke               Mount Olive\n",
      "281      M9V    Etobicoke               Silverstone\n",
      "282      M9V    Etobicoke             South Steeles\n",
      "283      M9V    Etobicoke               Thistletown\n",
      "284      M9W    Etobicoke                 Northwest\n",
      "\n",
      "[211 rows x 3 columns]\n"
     ]
    }
   ],
   "source": [
    "import pandas as pd\n",
    "import numpy as np\n",
    "df=pd.read_csv(r\"C:\\Users\\AmyFurey\\Desktop\\Toronto.csv\")\n",
    "df.drop(df.loc[df['Borough']=='Not assigned'].index, inplace=True)\n",
    "df['Neighbourhood'].loc[df['Neighbourhood']=='Not assigned']= df['Borough']\n",
    "print (df)\n"
   ]
  },
  {
   "cell_type": "code",
   "execution_count": 36,
   "metadata": {
    "scrolled": true
   },
   "outputs": [
    {
     "name": "stdout",
     "output_type": "stream",
     "text": [
      "  Postcode      Borough                                  Neighbourhood\n",
      "0      M1B  Scarborough                                  Rouge,Malvern\n",
      "1      M1C  Scarborough           Highland Creek,Rouge Hill,Port Union\n",
      "2      M1E  Scarborough                Guildwood,Morningside,West Hill\n",
      "3      M1G  Scarborough                                         Woburn\n",
      "4      M1H  Scarborough                                      Cedarbrae\n",
      "5      M1J  Scarborough                            Scarborough Village\n",
      "6      M1K  Scarborough      East Birchmount Park,Ionview,Kennedy Park\n",
      "7      M1L  Scarborough                  Clairlea,Golden Mile,Oakridge\n",
      "8      M1M  Scarborough  Cliffcrest,Cliffside,Scarborough Village West\n",
      "9      M1N  Scarborough                     Birch Cliff,Cliffside West\n"
     ]
    }
   ],
   "source": [
    "df1=df.groupby(['Postcode','Borough'])['Neighbourhood'].apply(','.join)\n",
    "df1=df1.reset_index()\n",
    "\n",
    "print (df1.head(10))"
   ]
  },
  {
   "cell_type": "code",
   "execution_count": 37,
   "metadata": {},
   "outputs": [
    {
     "data": {
      "text/plain": [
       "(103, 3)"
      ]
     },
     "execution_count": 37,
     "metadata": {},
     "output_type": "execute_result"
    }
   ],
   "source": [
    "df1.shape"
   ]
  },
  {
   "cell_type": "code",
   "execution_count": null,
   "metadata": {},
   "outputs": [],
   "source": []
  }
 ],
 "metadata": {
  "kernelspec": {
   "display_name": "Python 3",
   "language": "python",
   "name": "python3"
  },
  "language_info": {
   "codemirror_mode": {
    "name": "ipython",
    "version": 3
   },
   "file_extension": ".py",
   "mimetype": "text/x-python",
   "name": "python",
   "nbconvert_exporter": "python",
   "pygments_lexer": "ipython3",
   "version": "3.7.1"
  }
 },
 "nbformat": 4,
 "nbformat_minor": 2
}
