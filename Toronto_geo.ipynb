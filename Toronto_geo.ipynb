{
 "cells": [
  {
   "cell_type": "markdown",
   "metadata": {},
   "source": [
    "**I used the csv file to merge with the dataframe created in the previous assignment.**"
   ]
  },
  {
   "cell_type": "markdown",
   "metadata": {},
   "source": [
    "*Rows were removed where the Borough was Not assigned.\n",
    "Neighbourhood was replaced by the Borough if Neighbourhood was Not assigned.\n",
    "Neighbourhood was renamed since I am not British.\n",
    "Postcode was renamed for the merge.*"
   ]
  },
  {
   "cell_type": "code",
   "execution_count": 10,
   "metadata": {},
   "outputs": [
    {
     "name": "stdout",
     "output_type": "stream",
     "text": [
      "    PostalCode      Borough              Neighborhood\n",
      "1          M1B  Scarborough                     Rouge\n",
      "2          M1B  Scarborough                   Malvern\n",
      "3          M1C  Scarborough            Highland Creek\n",
      "4          M1C  Scarborough                Rouge Hill\n",
      "5          M1C  Scarborough                Port Union\n",
      "6          M1E  Scarborough                 Guildwood\n",
      "7          M1E  Scarborough               Morningside\n",
      "8          M1E  Scarborough                 West Hill\n",
      "9          M1G  Scarborough                    Woburn\n",
      "10         M1H  Scarborough                 Cedarbrae\n",
      "11         M1J  Scarborough       Scarborough Village\n",
      "12         M1K  Scarborough      East Birchmount Park\n",
      "13         M1K  Scarborough                   Ionview\n",
      "14         M1K  Scarborough              Kennedy Park\n",
      "15         M1L  Scarborough                  Clairlea\n",
      "16         M1L  Scarborough               Golden Mile\n",
      "17         M1L  Scarborough                  Oakridge\n",
      "18         M1M  Scarborough                Cliffcrest\n",
      "19         M1M  Scarborough                 Cliffside\n",
      "20         M1M  Scarborough  Scarborough Village West\n",
      "21         M1N  Scarborough               Birch Cliff\n",
      "22         M1N  Scarborough            Cliffside West\n",
      "23         M1P  Scarborough               Dorset Park\n",
      "24         M1P  Scarborough   Scarborough Town Centre\n",
      "25         M1P  Scarborough           Wexford Heights\n",
      "26         M1R  Scarborough                  Maryvale\n",
      "27         M1R  Scarborough                   Wexford\n",
      "28         M1S  Scarborough                 Agincourt\n",
      "29         M1T  Scarborough            Clarks Corners\n",
      "30         M1T  Scarborough                  Sullivan\n",
      "..         ...          ...                       ...\n",
      "248        M8Z    Etobicoke     Royal York South West\n",
      "249        M8Z    Etobicoke            South of Bloor\n",
      "250        M9A    Etobicoke          Islington Avenue\n",
      "251        M9B    Etobicoke                Cloverdale\n",
      "252        M9B    Etobicoke                 Islington\n",
      "253        M9B    Etobicoke              Martin Grove\n",
      "254        M9B    Etobicoke          Princess Gardens\n",
      "255        M9B    Etobicoke           West Deane Park\n",
      "256        M9C    Etobicoke         Bloordale Gardens\n",
      "257        M9C    Etobicoke                  Eringate\n",
      "258        M9C    Etobicoke             Markland Wood\n",
      "259        M9C    Etobicoke         Old Burnhamthorpe\n",
      "265        M9L   North York             Humber Summit\n",
      "266        M9M   North York                     Emery\n",
      "267        M9M   North York                 Humberlea\n",
      "268        M9N         York                    Weston\n",
      "269        M9P    Etobicoke                 Westmount\n",
      "270        M9R    Etobicoke         Kingsview Village\n",
      "271        M9R    Etobicoke      Martin Grove Gardens\n",
      "272        M9R    Etobicoke          Richview Gardens\n",
      "273        M9R    Etobicoke              St. Phillips\n",
      "276        M9V    Etobicoke            Albion Gardens\n",
      "277        M9V    Etobicoke          Beaumond Heights\n",
      "278        M9V    Etobicoke                Humbergate\n",
      "279        M9V    Etobicoke                 Jamestown\n",
      "280        M9V    Etobicoke               Mount Olive\n",
      "281        M9V    Etobicoke               Silverstone\n",
      "282        M9V    Etobicoke             South Steeles\n",
      "283        M9V    Etobicoke               Thistletown\n",
      "284        M9W    Etobicoke                 Northwest\n",
      "\n",
      "[211 rows x 3 columns]\n"
     ]
    }
   ],
   "source": [
    "import pandas as pd\n",
    "import numpy as np\n",
    "df=pd.read_csv(r\"C:\\Users\\AmyFurey\\Desktop\\Toronto.csv\")\n",
    "df.drop(df.loc[df['Borough']=='Not assigned'].index, inplace=True)\n",
    "df['Neighbourhood'].loc[df['Neighbourhood']=='Not assigned']= df['Borough']\n",
    "df.rename(columns={'Postcode': 'PostalCode', 'Neighbourhood':'Neighborhood'}, inplace=True)\n",
    "print (df)\n"
   ]
  },
  {
   "cell_type": "markdown",
   "metadata": {},
   "source": [
    "*Neighborhoods were grouped by Borough and separated by a comma.*"
   ]
  },
  {
   "cell_type": "code",
   "execution_count": 12,
   "metadata": {
    "scrolled": true
   },
   "outputs": [
    {
     "name": "stdout",
     "output_type": "stream",
     "text": [
      "  PostalCode      Borough                                   Neighborhood\n",
      "0        M1B  Scarborough                                  Rouge,Malvern\n",
      "1        M1C  Scarborough           Highland Creek,Rouge Hill,Port Union\n",
      "2        M1E  Scarborough                Guildwood,Morningside,West Hill\n",
      "3        M1G  Scarborough                                         Woburn\n",
      "4        M1H  Scarborough                                      Cedarbrae\n",
      "5        M1J  Scarborough                            Scarborough Village\n",
      "6        M1K  Scarborough      East Birchmount Park,Ionview,Kennedy Park\n",
      "7        M1L  Scarborough                  Clairlea,Golden Mile,Oakridge\n",
      "8        M1M  Scarborough  Cliffcrest,Cliffside,Scarborough Village West\n",
      "9        M1N  Scarborough                     Birch Cliff,Cliffside West\n"
     ]
    }
   ],
   "source": [
    "df1=df.groupby(['PostalCode','Borough'])['Neighborhood'].apply(','.join)\n",
    "df1=df1.reset_index()\n",
    "\n",
    "print (df1.head(10))"
   ]
  },
  {
   "cell_type": "code",
   "execution_count": 13,
   "metadata": {},
   "outputs": [
    {
     "data": {
      "text/plain": [
       "(103, 3)"
      ]
     },
     "execution_count": 13,
     "metadata": {},
     "output_type": "execute_result"
    }
   ],
   "source": [
    "df1.shape"
   ]
  },
  {
   "cell_type": "markdown",
   "metadata": {},
   "source": [
    "*Reading in the latitude and longitude data*"
   ]
  },
  {
   "cell_type": "code",
   "execution_count": 14,
   "metadata": {},
   "outputs": [
    {
     "name": "stdout",
     "output_type": "stream",
     "text": [
      "  PostalCode   Latitude  Longitude\n",
      "0        M1B  43.806686 -79.194353\n",
      "1        M1C  43.784535 -79.160497\n",
      "2        M1E  43.763573 -79.188711\n",
      "3        M1G  43.770992 -79.216917\n",
      "4        M1H  43.773136 -79.239476\n"
     ]
    }
   ],
   "source": [
    "geo=pd.read_csv(r\"C:\\Users\\AmyFurey\\Desktop\\geospatial_toronto.csv\")\n",
    "geo.rename(columns={'Postal Code':'PostalCode'}, inplace=True)\n",
    "print (geo.head())"
   ]
  },
  {
   "cell_type": "markdown",
   "metadata": {},
   "source": [
    "*Merging the toronto data with the geo data.*"
   ]
  },
  {
   "cell_type": "code",
   "execution_count": 17,
   "metadata": {},
   "outputs": [
    {
     "name": "stdout",
     "output_type": "stream",
     "text": [
      "   PostalCode      Borough                                       Neighborhood  \\\n",
      "0         M1B  Scarborough                                      Rouge,Malvern   \n",
      "1         M1C  Scarborough               Highland Creek,Rouge Hill,Port Union   \n",
      "2         M1E  Scarborough                    Guildwood,Morningside,West Hill   \n",
      "3         M1G  Scarborough                                             Woburn   \n",
      "4         M1H  Scarborough                                          Cedarbrae   \n",
      "5         M1J  Scarborough                                Scarborough Village   \n",
      "6         M1K  Scarborough          East Birchmount Park,Ionview,Kennedy Park   \n",
      "7         M1L  Scarborough                      Clairlea,Golden Mile,Oakridge   \n",
      "8         M1M  Scarborough      Cliffcrest,Cliffside,Scarborough Village West   \n",
      "9         M1N  Scarborough                         Birch Cliff,Cliffside West   \n",
      "10        M1P  Scarborough  Dorset Park,Scarborough Town Centre,Wexford He...   \n",
      "11        M1R  Scarborough                                   Maryvale,Wexford   \n",
      "12        M1S  Scarborough                                          Agincourt   \n",
      "13        M1T  Scarborough              Clarks Corners,Sullivan,Tam O'Shanter   \n",
      "14        M1V  Scarborough  Agincourt North,L'Amoreaux East,Milliken,Steel...   \n",
      "15        M1W  Scarborough                                    L'Amoreaux West   \n",
      "16        M1X  Scarborough                                        Upper Rouge   \n",
      "17        M2H   North York                                  Hillcrest Village   \n",
      "18        M2J   North York                         Fairview,Henry Farm,Oriole   \n",
      "19        M2K   North York                                    Bayview Village   \n",
      "\n",
      "     Latitude  Longitude  \n",
      "0   43.806686 -79.194353  \n",
      "1   43.784535 -79.160497  \n",
      "2   43.763573 -79.188711  \n",
      "3   43.770992 -79.216917  \n",
      "4   43.773136 -79.239476  \n",
      "5   43.744734 -79.239476  \n",
      "6   43.727929 -79.262029  \n",
      "7   43.711112 -79.284577  \n",
      "8   43.716316 -79.239476  \n",
      "9   43.692657 -79.264848  \n",
      "10  43.757410 -79.273304  \n",
      "11  43.750072 -79.295849  \n",
      "12  43.794200 -79.262029  \n",
      "13  43.781638 -79.304302  \n",
      "14  43.815252 -79.284577  \n",
      "15  43.799525 -79.318389  \n",
      "16  43.836125 -79.205636  \n",
      "17  43.803762 -79.363452  \n",
      "18  43.778517 -79.346556  \n",
      "19  43.786947 -79.385975  \n",
      "(103, 5)\n"
     ]
    }
   ],
   "source": [
    "df_geo=pd.merge(df1, geo, on=['PostalCode'], how='left')\n",
    "print (df_geo.head(20))\n",
    "print (df_geo.shape)"
   ]
  },
  {
   "cell_type": "code",
   "execution_count": null,
   "metadata": {},
   "outputs": [],
   "source": []
  }
 ],
 "metadata": {
  "kernelspec": {
   "display_name": "Python 3",
   "language": "python",
   "name": "python3"
  },
  "language_info": {
   "codemirror_mode": {
    "name": "ipython",
    "version": 3
   },
   "file_extension": ".py",
   "mimetype": "text/x-python",
   "name": "python",
   "nbconvert_exporter": "python",
   "pygments_lexer": "ipython3",
   "version": "3.7.1"
  }
 },
 "nbformat": 4,
 "nbformat_minor": 2
}
